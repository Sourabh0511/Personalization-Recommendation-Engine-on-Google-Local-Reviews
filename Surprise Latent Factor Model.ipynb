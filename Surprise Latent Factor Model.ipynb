{
 "cells": [
  {
   "cell_type": "code",
   "execution_count": 1,
   "id": "be649301",
   "metadata": {},
   "outputs": [],
   "source": [
    "from surprise import SVD, Reader, Dataset\n",
    "from surprise.model_selection import train_test_split\n",
    "from sklearn import linear_model\n",
    "import sklearn\n",
    "import gzip\n",
    "import os\n",
    "from collections import defaultdict\n",
    "import random\n",
    "import pandas as pd\n",
    "from sklearn import linear_model\n",
    "import dateutil.parser\n",
    "from datetime import timedelta\n",
    "from tqdm import tqdm\n",
    "import csv\n",
    "import pickle\n",
    "import numpy as np\n",
    "import xgboost as xgb\n",
    "import matplotlib.pyplot as plt"
   ]
  },
  {
   "cell_type": "code",
   "execution_count": 4,
   "id": "f88f96d9",
   "metadata": {},
   "outputs": [],
   "source": [
    "with open(\"Cat_price_filtered_review_train.pkl\",\"rb\") as fp:\n",
    "    reviews_train = pickle.load(fp)\n",
    "    \n",
    "with open(\"Cat_price_filtered_review_test.pkl\",\"rb\") as fp:\n",
    "    reviews_test = pickle.load(fp)"
   ]
  },
  {
   "cell_type": "code",
   "execution_count": 5,
   "id": "4c165fd2",
   "metadata": {},
   "outputs": [
    {
     "data": {
      "text/plain": [
       "749747"
      ]
     },
     "execution_count": 5,
     "metadata": {},
     "output_type": "execute_result"
    }
   ],
   "source": [
    "len(reviews_train)"
   ]
  },
  {
   "cell_type": "code",
   "execution_count": 6,
   "id": "0b754808",
   "metadata": {},
   "outputs": [
    {
     "data": {
      "text/plain": [
       "{'rating': 4.0,\n",
       " 'reviewerName': 'william spindler',\n",
       " 'reviewText': 'Best War Wanton soup in Red Bluff',\n",
       " 'categories': ['Asian Restaurant', 'Chinese Restaurant'],\n",
       " 'gPlusPlaceId': '106591714648856494903',\n",
       " 'unixReviewTime': 1394669496,\n",
       " 'reviewTime': 'Mar 12, 2014',\n",
       " 'gPlusUserId': '100000032416892623125',\n",
       " 'gps': (40.179159, -122.236162)}"
      ]
     },
     "execution_count": 6,
     "metadata": {},
     "output_type": "execute_result"
    }
   ],
   "source": [
    "reviews_train[0]"
   ]
  },
  {
   "cell_type": "code",
   "execution_count": 7,
   "id": "b559ca60",
   "metadata": {},
   "outputs": [],
   "source": [
    "data = reviews_train"
   ]
  },
  {
   "cell_type": "code",
   "execution_count": 8,
   "id": "a0fd25ef",
   "metadata": {},
   "outputs": [],
   "source": [
    "df = pd.DataFrame(data, columns=['gPlusUserId', 'gPlusPlaceId','rating'])\n",
    "\n",
    "reader = Reader(rating_scale=(0, 5))\n",
    "training_data = Dataset.load_from_df(df[['gPlusUserId', 'gPlusPlaceId', 'rating']], reader)\n",
    "\n",
    "trainset, validationset = train_test_split(training_data, shuffle = False, test_size = 0.20)"
   ]
  },
  {
   "cell_type": "code",
   "execution_count": 9,
   "id": "405c4039",
   "metadata": {},
   "outputs": [
    {
     "data": {
      "text/plain": [
       "<surprise.prediction_algorithms.matrix_factorization.SVD at 0x276869563a0>"
      ]
     },
     "execution_count": 9,
     "metadata": {},
     "output_type": "execute_result"
    }
   ],
   "source": [
    "model = SVD(lr_all= 0.005, n_factors= 2, reg_all= 20)    \n",
    "model.fit(trainset)"
   ]
  },
  {
   "cell_type": "code",
   "execution_count": 10,
   "id": "d0918146",
   "metadata": {},
   "outputs": [],
   "source": [
    "df_train = df[['gPlusUserId', 'gPlusPlaceId', 'rating']]\n",
    "df_train = df_train.head(int(0.8*len(data)))\n",
    "train = df_train.values.tolist()\n",
    "\n",
    "predictions_train = model.test(train)\n",
    "predictions_val = model.test(validationset)"
   ]
  },
  {
   "cell_type": "code",
   "execution_count": 11,
   "id": "5e2d19f8",
   "metadata": {},
   "outputs": [
    {
     "name": "stdout",
     "output_type": "stream",
     "text": [
      "Training set MSE is equal to  1.3671345987298107\n",
      "Validation set MSE is equal to  1.4512226972046478\n"
     ]
    }
   ],
   "source": [
    "sse = 0\n",
    "for p in predictions_train:\n",
    "    sse += (p.r_ui - p.est)**2\n",
    "\n",
    "print('Training set MSE is equal to ', sse / len(predictions_train))\n",
    "\n",
    "sse = 0\n",
    "for p in predictions_val:\n",
    "    sse += (p.r_ui - p.est)**2\n",
    "\n",
    "print('Validation set MSE is equal to ', sse / len(predictions_val))"
   ]
  },
  {
   "cell_type": "markdown",
   "id": "562fbd1d",
   "metadata": {},
   "source": [
    "## Graph Plots"
   ]
  },
  {
   "cell_type": "code",
   "execution_count": 12,
   "id": "aaf1b9b7",
   "metadata": {},
   "outputs": [],
   "source": [
    "with open(\"Price_filtered_places.pkl\",\"rb\") as fp:\n",
    "    places = pickle.load(fp)"
   ]
  },
  {
   "cell_type": "code",
   "execution_count": 13,
   "id": "0fafd28a",
   "metadata": {},
   "outputs": [
    {
     "data": {
      "text/plain": [
       "{'name': \"T C's Referee Sports Bar\",\n",
       " 'price': '$$',\n",
       " 'address': ['5322 W 26th St', 'Sioux Falls, SD 57106'],\n",
       " 'hours': [['Monday', [['11:00 am--10:00 pm']]],\n",
       "  ['Tuesday', [['11:00 am--10:00 pm']], 1],\n",
       "  ['Wednesday', [['11:00 am--10:00 pm']]],\n",
       "  ['Thursday', [['11:00 am--10:00 pm']]],\n",
       "  ['Friday', [['11:00 am--1:00 am']]],\n",
       "  ['Saturday', [['11:00 am--1:00 am']]],\n",
       "  ['Sunday', [['11:00 am--10:00 pm']]]],\n",
       " 'phone': '(605) 361-2208',\n",
       " 'closed': False,\n",
       " 'gPlusPlaceId': '100327153115986850675',\n",
       " 'gps': [43.529494, -96.792244]}"
      ]
     },
     "execution_count": 13,
     "metadata": {},
     "output_type": "execute_result"
    }
   ],
   "source": [
    "places[0]"
   ]
  },
  {
   "cell_type": "code",
   "execution_count": 14,
   "id": "e518b407",
   "metadata": {},
   "outputs": [],
   "source": [
    "place_price = dict()\n",
    "for place in places:\n",
    "    place_price[place['gPlusPlaceId']] = place['price']"
   ]
  },
  {
   "cell_type": "code",
   "execution_count": 56,
   "id": "9e5a294f",
   "metadata": {},
   "outputs": [],
   "source": [
    "dollardollardollar_ratings = [0] * 6\n",
    "dollardollar_ratings = [0] * 6\n",
    "dollar_ratings = [0] * 6\n",
    "\n",
    "rating_dollar_map = [[0,0,0],[0,0,0],[0,0,0],[0,0,0],[0,0,0],[0,0,0]]\n",
    "for d in data:\n",
    "    if  place_price[d['gPlusPlaceId']] == '$':\n",
    "        dollar_ratings[int(d['rating'])] += 1\n",
    "        rating_dollar_map[int(d['rating'])][0] += 1\n",
    "    elif place_price[d['gPlusPlaceId']]  == '$$':\n",
    "        dollardollar_ratings[int(d['rating'])] += 1\n",
    "        rating_dollar_map[int(d['rating'])][1] += 1\n",
    "    elif place_price[d['gPlusPlaceId']]  == '$$$':\n",
    "        dollardollardollar_ratings[int(d['rating'])] += 1\n",
    "        rating_dollar_map[int(d['rating'])][2] += 1\n",
    "    "
   ]
  },
  {
   "cell_type": "code",
   "execution_count": 57,
   "id": "6436dc6a",
   "metadata": {},
   "outputs": [
    {
     "data": {
      "text/plain": [
       "{'rating': 4.0,\n",
       " 'reviewerName': 'william spindler',\n",
       " 'reviewText': 'Best War Wanton soup in Red Bluff',\n",
       " 'categories': ['Asian Restaurant', 'Chinese Restaurant'],\n",
       " 'gPlusPlaceId': '106591714648856494903',\n",
       " 'unixReviewTime': 1394669496,\n",
       " 'reviewTime': 'Mar 12, 2014',\n",
       " 'gPlusUserId': '100000032416892623125',\n",
       " 'gps': (40.179159, -122.236162)}"
      ]
     },
     "execution_count": 57,
     "metadata": {},
     "output_type": "execute_result"
    }
   ],
   "source": [
    "data[0]"
   ]
  },
  {
   "cell_type": "code",
   "execution_count": 58,
   "id": "06a35bbf",
   "metadata": {},
   "outputs": [],
   "source": [
    "rating_dollar_map = np.array(rating_dollar_map)\n",
    "\n",
    "rating_dollar_map = rating_dollar_map / np.sum(rating_dollar_map, axis=0)\n",
    "rating_dollar_map = np.round(rating_dollar_map ,2)"
   ]
  },
  {
   "cell_type": "code",
   "execution_count": 59,
   "id": "424fab9e",
   "metadata": {},
   "outputs": [
    {
     "data": {
      "image/png": "[encoded data removed]",
      "text/plain": [
       "<Figure size 1188x648 with 1 Axes>"
      ]
     },
     "metadata": {
      "needs_background": "light"
     },
     "output_type": "display_data"
    }
   ],
   "source": [
    "labels = [ '1.5 star', '1 star', '2 star', '3 star', '4 star', '5 star']\n",
    "dollar = rating_dollar_map[:,0]\n",
    "dollardollar = rating_dollar_map[:,1]\n",
    "dollardollardollar = rating_dollar_map[:,2]\n",
    "x = np.arange(len(labels))  # the label locations\n",
    "width = 0.2  # the width of the bars\n",
    "\n",
    "fig, ax = plt.subplots()\n",
    "rects1 = ax.bar(x - width*1.5 + 0.16, dollar, width, label='\\$')\n",
    "rects2 = ax.bar(x -  width*.5 + 0.16, dollardollar, width, label='\\$\\$')\n",
    "rects3 = ax.bar(x + 0.5 * width + 0.16, dollardollardollar, width, label='\\$\\$\\$')\n",
    "# Add some text for labels, title and custom x-axis tick labels, etc.\n",
    "ax.set_ylabel('Count')\n",
    "ax.set_xlabel('Star')\n",
    "ax.set_title('Rating Counts by Price Category')\n",
    "\n",
    "#ax.set_xticklabels(labels)\n",
    "ax.legend()\n",
    "\n",
    "ax.bar_label(rects1, padding=3)\n",
    "ax.bar_label(rects2, padding=3)\n",
    "ax.bar_label(rects3, padding=3)\n",
    "#fig.tight_layout()\n",
    "fig = plt.gcf()\n",
    "fig.set_size_inches(16.5, 9)\n",
    "plt.show()"
   ]
  },
  {
   "cell_type": "code",
   "execution_count": null,
   "id": "ee137c67",
   "metadata": {},
   "outputs": [],
   "source": [
    "import matplotlib\n",
    "print(matplotlib. __version__)"
   ]
  },
  {
   "cell_type": "code",
   "execution_count": null,
   "id": "d8f9c91e",
   "metadata": {},
   "outputs": [],
   "source": [
    "dollar_ratings"
   ]
  },
  {
   "cell_type": "code",
   "execution_count": 93,
   "id": "22e38d72",
   "metadata": {},
   "outputs": [
    {
     "data": {
      "text/plain": [
       "[7, 25529, 37308, 67904, 137960, 199569]"
      ]
     },
     "execution_count": 93,
     "metadata": {},
     "output_type": "execute_result"
    }
   ],
   "source": [
    "dollardollar_ratings"
   ]
  },
  {
   "cell_type": "code",
   "execution_count": 94,
   "id": "5c0823aa",
   "metadata": {},
   "outputs": [
    {
     "data": {
      "text/plain": [
       "[1, 23126, 29584, 42099, 63834, 90325]"
      ]
     },
     "execution_count": 94,
     "metadata": {},
     "output_type": "execute_result"
    }
   ],
   "source": [
    "dollardollardollar_ratings"
   ]
  },
  {
   "cell_type": "code",
   "execution_count": 60,
   "id": "48a1bebe",
   "metadata": {},
   "outputs": [],
   "source": [
    "#     pickle.dump(req_users_info,fp)\n",
    "with open(\"User_Info_req.pkl\",\"rb\") as fp:\n",
    "    req_users = pickle.load(fp)"
   ]
  },
  {
   "cell_type": "code",
   "execution_count": 71,
   "id": "33fbba25",
   "metadata": {},
   "outputs": [],
   "source": [
    "curr_locations = defaultdict(int)\n",
    "\n",
    "for u in req_users:\n",
    "    curr_locations[u['gPlusUserId']] = u['currentPlace']"
   ]
  },
  {
   "cell_type": "code",
   "execution_count": 75,
   "id": "d742ce31",
   "metadata": {},
   "outputs": [],
   "source": [
    "cnt = 0\n",
    "for d in data:\n",
    "    if curr_locations[d['gPlusUserId']] is not None and curr_locations[d['gPlusUserId']]!= 0:\n",
    "        cnt+=1"
   ]
  },
  {
   "cell_type": "code",
   "execution_count": 76,
   "id": "40b4e33c",
   "metadata": {},
   "outputs": [
    {
     "data": {
      "text/plain": [
       "189126"
      ]
     },
     "execution_count": 76,
     "metadata": {},
     "output_type": "execute_result"
    }
   ],
   "source": [
    "cnt"
   ]
  }
 ],
 "metadata": {
  "kernelspec": {
   "display_name": "Python 3",
   "language": "python",
   "name": "python3"
  },
  "language_info": {
   "codemirror_mode": {
    "name": "ipython",
    "version": 3
   },
   "file_extension": ".py",
   "mimetype": "text/x-python",
   "name": "python",
   "nbconvert_exporter": "python",
   "pygments_lexer": "ipython3",
   "version": "3.8.8"
  }
 },
 "nbformat": 4,
 "nbformat_minor": 5
}
