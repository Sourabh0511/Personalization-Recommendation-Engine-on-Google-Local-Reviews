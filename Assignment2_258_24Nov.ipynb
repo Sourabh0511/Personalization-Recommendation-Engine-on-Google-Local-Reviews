{
 "cells": [
  {
   "cell_type": "code",
   "execution_count": 1,
   "metadata": {},
   "outputs": [],
   "source": [
    "from surprise import SVD, Reader, Dataset\n",
    "from surprise.model_selection import train_test_split\n",
    "from sklearn import linear_model\n",
    "import sklearn\n",
    "import gzip\n",
    "import os\n",
    "from collections import defaultdict\n",
    "import random\n",
    "import pandas as pd\n",
    "from sklearn import linear_model\n",
    "import dateutil.parser\n",
    "from datetime import timedelta\n",
    "from tqdm import tqdm\n",
    "import csv\n",
    "import pickle\n",
    "import numpy as np\n",
    "import xgboost as xgb"
   ]
  },
  {
   "cell_type": "code",
   "execution_count": 2,
   "metadata": {
    "id": "Sl6igqKTsjOz"
   },
   "outputs": [],
   "source": [
    "\n",
    "# !pip install implicit\n",
    "# !pip install surprise\n",
    "# from implicit import bpr\n",
    "# from surprise import SVD, Reader, Dataset\n",
    "# from surprise.model_selection import train_test_split\n",
    "\n",
    "path = \".\"\n",
    "os.chdir(path)\n",
    "\n",
    "def readGz(path):\n",
    "    for l in gzip.open(path, 'rt'):\n",
    "        yield eval(l)\n",
    "\n",
    "def readCSV(path):\n",
    "    f = gzip.open(path, 'rt')\n",
    "    c = csv.reader(f)\n",
    "    header = next(c)\n",
    "    for l in c:\n",
    "        d = dict(zip(header,l))\n",
    "        yield d['user_id'],d['recipe_id'],d\n",
    "\n",
    "def parse(f):\n",
    "    for l in gzip.open(f):\n",
    "        yield eval(l)"
   ]
  },
  {
   "cell_type": "code",
   "execution_count": 3,
   "metadata": {
    "colab": {
     "base_uri": "https://localhost:8080/"
    },
    "id": "xOUt0I0ibikv",
    "outputId": "76114f21-813a-4215-a142-339c00034aea"
   },
   "outputs": [],
   "source": [
    "#print(user_data[0])\n",
    "#userName : string\n",
    "#jobs : nested list [['Tổng công ty IDICO', 'Chuyên viên Kỹ thuật XD', [[1, 1, 1998], [1, 1, 2013], 1], '', '']]\n",
    "#currentPlace : ['Thành phố Hồ Chí Minh, Việt Nam', [[], 108230990, 1066296640, 1]]\n",
    "#previousPlaces : [['tp. Nam Định, Nam Định, Việt Nam', [[], 204200000, 1061683330, 1]]]\n",
    "#education : nested list\n",
    "#gPlusUserId : string"
   ]
  },
  {
   "cell_type": "code",
   "execution_count": 4,
   "metadata": {
    "id": "Lv5kxdsUaWD7"
   },
   "outputs": [],
   "source": [
    "#print(places_data[0])\n",
    "#attributes of places_data\n",
    "#name : string\n",
    "#price : None / \n",
    "#address : list(strings)\n",
    "#hours : [['Monday', [['6:30 am--4:15 pm']], ['Tuesday', [['6:30 am--4:15 pm']]]] sometimes number like 1 is also there not sure why\n",
    "#phone : string\n",
    "#gPlusPlaceId : string\n",
    "#gps: [float,float]"
   ]
  },
  {
   "cell_type": "code",
   "execution_count": 5,
   "metadata": {
    "id": "ClzASryK6nju"
   },
   "outputs": [],
   "source": [
    "state_list = [\"AL\",\"AK\",\"AZ\",\"AR\",\"CA\",\"CO\",\"CT\",\"DE\",\"FL\",\"GA\",\"HI\",\"ID\",\"IL\",\"IN\",\"IA\",\"KS\",\"KY\",\"LA\",\"ME\",\"MD\",\"MA\",\"MI\",\"MN\",\"MS\",\"MO\",\"MT\",\"NE\",\"NV\",\"NH\",\"NJ\",\"NM\",\"NY\",\"NC\",\"ND\",\"OH\",\"OK\",\"OR\",\"PA\",\"RI\",\"SC\",\"SD\",\"TN\",\"TX\",\"UT\",\"VT\",\"VA\",\"WA\",\"WV\",\"WI\",\"WY\"]\n",
    "state_list = set(state_list)"
   ]
  },
  {
   "cell_type": "code",
   "execution_count": 6,
   "metadata": {
    "id": "rRo7USHbB66f"
   },
   "outputs": [
    {
     "data": {
      "text/plain": [
       "'\\nreq_places = []\\nfor d in places_data:\\n    t = d[\"address\"][-1].split()\\n      for ad in t:\\n        if ad in state_list:\\n            req_places.append(d)\\n            '"
      ]
     },
     "execution_count": 6,
     "metadata": {},
     "output_type": "execute_result"
    }
   ],
   "source": [
    "'''\n",
    "req_places = []\n",
    "for d in places_data:\n",
    "    t = d[\"address\"][-1].split()\n",
    "      for ad in t:\n",
    "        if ad in state_list:\n",
    "            req_places.append(d)\n",
    "            '''"
   ]
  },
  {
   "cell_type": "code",
   "execution_count": 7,
   "metadata": {
    "id": "O1a5Ot-B_u6C"
   },
   "outputs": [],
   "source": [
    "with open(\"USA_places.pkl\",\"rb\") as fp:\n",
    "    req_places = pickle.load(fp)"
   ]
  },
  {
   "cell_type": "code",
   "execution_count": 8,
   "metadata": {
    "colab": {
     "base_uri": "https://localhost:8080/"
    },
    "id": "y55Df7YlYQmi",
    "outputId": "a26f3de9-ea5a-437d-f814-77271b4b8437"
   },
   "outputs": [
    {
     "name": "stdout",
     "output_type": "stream",
     "text": [
      "done\n"
     ]
    }
   ],
   "source": [
    "#places_data = list(parse(\"/content/drive/MyDrive/UCSD_assignments/CS258/Assignment2/places.clean.json.gz\"))\n",
    "#user_data = list(parse(\"/content/drive/MyDrive/UCSD_assignments/CS258/Assignment2/users.clean.json.gz\"))\n",
    "#review_data = list(parse(\"/content/drive/MyDrive/UCSD_assignments/CS258/Assignment2/reviews.clean.json.gz\"))\n",
    "\n",
    "print(\"done\")"
   ]
  },
  {
   "cell_type": "code",
   "execution_count": 9,
   "metadata": {
    "id": "Qve8as9JlXVe"
   },
   "outputs": [],
   "source": [
    "# review_data = list(parse(\"/content/drive/MyDrive/UCSD_assignments/CS258/Assignment2/reviews.clean.json.gz\"))"
   ]
  },
  {
   "cell_type": "code",
   "execution_count": 10,
   "metadata": {
    "id": "CvSkMLSaW9q_"
   },
   "outputs": [],
   "source": [
    "# with open(\"/content/drive/MyDrive/UCSD_assignments/CS258/Assignment2/review_data_1.pkl\",\"rb\") as fp:\n",
    "#   review_data1 = pickle.load(fp)\n",
    "\n",
    "# with open(\"/content/drive/MyDrive/UCSD_assignments/CS258/Assignment2/review_data_2.pkl\",\"rb\") as fp:\n",
    "#   review_data1 = pickle.load(fp)\n",
    "\n",
    "# with open(\"/content/drive/MyDrive/UCSD_assignments/CS258/Assignment2/review_data_3.pkl\",\"rb\") as fp:\n",
    "#   review_data1 = pickle.load(fp)"
   ]
  },
  {
   "cell_type": "markdown",
   "metadata": {
    "id": "dpAf_mwHIjRX"
   },
   "source": []
  },
  {
   "cell_type": "code",
   "execution_count": 11,
   "metadata": {
    "colab": {
     "base_uri": "https://localhost:8080/"
    },
    "id": "N86-t8c14pme",
    "outputId": "360d137f-a34a-4e30-b56a-b7a62824b58a"
   },
   "outputs": [],
   "source": [
    "#review_data1[2000]"
   ]
  },
  {
   "cell_type": "code",
   "execution_count": 12,
   "metadata": {
    "colab": {
     "base_uri": "https://localhost:8080/"
    },
    "id": "vyk3mGJy_F0d",
    "outputId": "d78eda5c-fe28-472c-a933-2f144efdc30b"
   },
   "outputs": [
    {
     "data": {
      "text/plain": [
       "{'name': 'Office Depot',\n",
       " 'price': '$$',\n",
       " 'address': ['1406 W Expy 83', 'Weslaco, TX 78596'],\n",
       " 'hours': [['Monday', [['8:00 am--9:00 pm']]],\n",
       "  ['Tuesday', [['8:00 am--9:00 pm']]],\n",
       "  ['Wednesday', [['8:00 am--9:00 pm']], 1],\n",
       "  ['Thursday', [['8:00 am--9:00 pm']]],\n",
       "  ['Friday', [['8:00 am--9:00 pm']]],\n",
       "  ['Saturday', [['9:00 am--9:00 pm']]],\n",
       "  ['Sunday', [['10:00 am--7:00 pm']]]],\n",
       " 'phone': '(956) 968-6207',\n",
       " 'closed': False,\n",
       " 'gPlusPlaceId': '103560782244834035321',\n",
       " 'gps': [26176207.0, -98024823.0]}"
      ]
     },
     "execution_count": 12,
     "metadata": {},
     "output_type": "execute_result"
    }
   ],
   "source": [
    "req_places[100000]"
   ]
  },
  {
   "cell_type": "code",
   "execution_count": 13,
   "metadata": {},
   "outputs": [],
   "source": [
    "req_places[122789]\n",
    "closed_places = []"
   ]
  },
  {
   "cell_type": "code",
   "execution_count": 14,
   "metadata": {
    "id": "ZDHnoiFZ_VGF"
   },
   "outputs": [],
   "source": [
    "# # with open(\"USA_places.pkl\",\"wb\") as fp:\n",
    "# #   pickle.dump(req_places,fp)\n",
    "\n",
    "# with open(\"USA_places.pkl\",\"rb\") as fp:\n",
    "#     req_places = pickle.load(fp)"
   ]
  },
  {
   "cell_type": "code",
   "execution_count": 15,
   "metadata": {
    "id": "Mc9KpNf2CMpO"
   },
   "outputs": [],
   "source": [
    "place_ids = [d['gPlusPlaceId'] for d in req_places]\n",
    "place_id_set = set(place_ids)"
   ]
  },
  {
   "cell_type": "code",
   "execution_count": 16,
   "metadata": {},
   "outputs": [
    {
     "data": {
      "text/plain": [
       "{'', '$', '$$', '$$$', None}"
      ]
     },
     "execution_count": 16,
     "metadata": {},
     "output_type": "execute_result"
    }
   ],
   "source": [
    "dollar =set([d['price'] for d in req_places])\n",
    "dollar"
   ]
  },
  {
   "cell_type": "code",
   "execution_count": 17,
   "metadata": {
    "id": "FFfHOTSAB-gD"
   },
   "outputs": [],
   "source": [
    "# review1_req = []\n",
    "# for d in review_data1:\n",
    "#     if d['gPlusPlaceId'] in place_id_set:\n",
    "#         review1_req.append(d)"
   ]
  },
  {
   "cell_type": "code",
   "execution_count": 18,
   "metadata": {
    "id": "81_25YQ3CuV6"
   },
   "outputs": [],
   "source": [
    "# with open(\"USA_reviews1.pkl\",\"wb\") as fp:\n",
    "#   pickle.dump(review1_req,fp)\n",
    "\n",
    "# with open(\"USA_reviews2.pkl\",\"wb\") as fp:\n",
    "#   pickle.dump(review1_req,fp)\n",
    "\n",
    "# with open(\"USA_reviews3.pkl\",\"wb\") as fp:\n",
    "#   pickle.dump(review1_req,fp)\n",
    "\n",
    "# with open(\"USA_reviews1.pkl\",\"rb\") as fp:\n",
    "#     review1_req = pickle.load(fp)\n",
    "\n",
    "# with open(\"USA_reviews2.pkl\",\"rb\") as fp:\n",
    "#     review2_req = pickle.load(fp)\n",
    "\n",
    "# with open(\"USA_reviews3.pkl\",\"rb\") as fp:\n",
    "#     review3_req = pickle.load(fp)"
   ]
  },
  {
   "cell_type": "code",
   "execution_count": 19,
   "metadata": {},
   "outputs": [],
   "source": [
    "# review1_req.extend(review2_req)\n",
    "# review1_req.extend(review3_req)"
   ]
  },
  {
   "cell_type": "code",
   "execution_count": 20,
   "metadata": {},
   "outputs": [],
   "source": [
    "# review1_req_indices = np.random.choice(len(review1_req), int(0.1*len(review1_req)))\n",
    "# review1_req_set = set(review1_req_indices)\n",
    "# review1_req_train = []\n",
    "# review1_req_test = []\n",
    "# for i in range(len(review1_req)):\n",
    "#     if i not in review1_req_set:\n",
    "#         review1_req_train.append(review1_req[i])\n",
    "#     else:\n",
    "#         review1_req_test.append(review1_req[i])"
   ]
  },
  {
   "cell_type": "code",
   "execution_count": 21,
   "metadata": {},
   "outputs": [],
   "source": [
    "with open(\"USA_reviews_train.pkl\",\"rb\") as fp:\n",
    "    review1_req_train = pickle.load(fp)\n",
    "    \n",
    "with open(\"USA_reviews_test.pkl\",\"rb\") as fp:\n",
    "    review1_req_test = pickle.load(fp)\n"
   ]
  },
  {
   "cell_type": "code",
   "execution_count": 22,
   "metadata": {},
   "outputs": [],
   "source": [
    "for d in review1_req_train:\n",
    "    d['user'] = d['gPlusUserId']\n",
    "    d['place'] = d['gPlusPlaceId']\n",
    "    \n",
    "for d in review1_req_test:\n",
    "    d['user'] = d['gPlusUserId']\n",
    "    d['place'] = d['gPlusPlaceId']"
   ]
  },
  {
   "cell_type": "code",
   "execution_count": 23,
   "metadata": {},
   "outputs": [],
   "source": [
    "# with open(\"USA_reviews_train.pkl\",\"wb\") as fp:\n",
    "#     pickle.dump(review1_req_train,fp)\n",
    "    \n",
    "# with open(\"USA_reviews_test.pkl\",\"wb\") as fp:\n",
    "#     pickle.dump(review1_req_test,fp)\n"
   ]
  },
  {
   "cell_type": "code",
   "execution_count": 24,
   "metadata": {
    "id": "oYqALQb6HMfh"
   },
   "outputs": [],
   "source": [
    "#filtering user data\n",
    "# user_ids = set([d['gPlusUserId'] for d in review3_req])"
   ]
  },
  {
   "cell_type": "code",
   "execution_count": 25,
   "metadata": {
    "id": "RMS20i_kIxN2"
   },
   "outputs": [],
   "source": [
    "# with open(\"review1_uids.pkl\",\"rb\") as fp:\n",
    "#     user_ids1 = pickle.load(fp)\n",
    "# with open(\"review2_uids.pkl\",\"rb\") as fp:\n",
    "#     user_ids2 = pickle.load(fp)\n",
    "# with open(\"review3_uids.pkl\",\"rb\") as fp:\n",
    "#     user_ids3 = pickle.load(fp)"
   ]
  },
  {
   "cell_type": "code",
   "execution_count": 26,
   "metadata": {
    "id": "scC8bTTlJtpk"
   },
   "outputs": [],
   "source": [
    "# all_user_ids = user_ids1.union(user_ids2).union(user_ids3)\n",
    "with open(\"All_req_uids.pkl\",\"rb\") as fp:\n",
    "    all_user_ids = pickle.load(fp)"
   ]
  },
  {
   "cell_type": "code",
   "execution_count": 27,
   "metadata": {
    "id": "PRpuVXMhLFa3"
   },
   "outputs": [],
   "source": [
    "# req_users_info = []\n",
    "# for d in user_data:\n",
    "#     if d['gPlusUserId'] in all_user_ids:\n",
    "#         req_users_info.append(d)"
   ]
  },
  {
   "cell_type": "code",
   "execution_count": 28,
   "metadata": {
    "id": "UY2vy5lhMXSq"
   },
   "outputs": [],
   "source": [
    "# with open(\"User_Info_req.pkl\",\"wb\") as fp:\n",
    "#     pickle.dump(req_users_info,fp)\n",
    "with open(\"User_Info_req.pkl\",\"rb\") as fp:\n",
    "    req_users = pickle.load(fp)\n"
   ]
  },
  {
   "cell_type": "code",
   "execution_count": 38,
   "metadata": {},
   "outputs": [],
   "source": [
    "dates = []\n",
    "for d in req_users[:10000]:\n",
    "    values = [v for k,v in d.items()]\n",
    "    if None not in values:\n",
    "        dates.append(d['jobs'][0])\n"
   ]
  },
  {
   "cell_type": "code",
   "execution_count": 40,
   "metadata": {},
   "outputs": [
    {
     "data": {
      "text/plain": [
       "{'rating': 4.0,\n",
       " 'reviewerName': 'william spindler',\n",
       " 'reviewText': 'Best War Wanton soup in Red Bluff',\n",
       " 'categories': ['Asian Restaurant', 'Chinese Restaurant'],\n",
       " 'gPlusPlaceId': '106591714648856494903',\n",
       " 'unixReviewTime': 1394669496,\n",
       " 'reviewTime': 'Mar 12, 2014',\n",
       " 'gPlusUserId': '100000032416892623125',\n",
       " 'user': '100000032416892623125',\n",
       " 'place': '106591714648856494903'}"
      ]
     },
     "execution_count": 40,
     "metadata": {},
     "output_type": "execute_result"
    }
   ],
   "source": [
    "review1_req_train[0]"
   ]
  },
  {
   "cell_type": "code",
   "execution_count": 35,
   "metadata": {},
   "outputs": [
    {
     "data": {
      "text/plain": [
       "{'userName': 'Chris Bupp',\n",
       " 'jobs': None,\n",
       " 'currentPlace': None,\n",
       " 'previousPlaces': None,\n",
       " 'education': [[[], [], [], [], [], 6],\n",
       "  [['Mississippi State University',\n",
       "    'Computer Science',\n",
       "    [[1, 1, 2003], [1, 1, 2008]],\n",
       "    'http://www.freebase.com/view/m/01dzg0',\n",
       "    '']]],\n",
       " 'gPlusUserId': '100003209077114320975'}"
      ]
     },
     "execution_count": 35,
     "metadata": {},
     "output_type": "execute_result"
    }
   ],
   "source": [
    "req_users[400]"
   ]
  },
  {
   "cell_type": "code",
   "execution_count": 43,
   "metadata": {},
   "outputs": [],
   "source": [
    "# data = [[d['gPlusUserId'],d['gPlusPlaceId'], d['rating']] for d in review1_req_train]\n",
    "data = review1_req_train"
   ]
  },
  {
   "cell_type": "code",
   "execution_count": 53,
   "metadata": {},
   "outputs": [],
   "source": [
    "\n",
    "\n",
    "# Utility data structures to stores Users per Item and Items Per User\n",
    "usersPerPlace = defaultdict(set)\n",
    "placesPerUser = defaultdict(set)\n",
    "\n",
    "# Utility data structures to stores Ratings per Item and Ratings Per User\n",
    "userRatings = defaultdict(dict)\n",
    "placeRatings = defaultdict(dict)\n",
    "\n",
    "# for user,recipe,rating in readCSV(\"trainInteractions.csv.gz\"):\n",
    "#     data.append({'user': user, 'recipe': recipe, 'rating':rating})\n",
    "    \n",
    "training_set_size = int(0.8*len(review1_req_train))\n",
    "train = data[:training_set_size]\n",
    "valid = data[training_set_size:]\n",
    "\n",
    "for d in train:\n",
    "    \n",
    "    userRatings[d['user']][d['place']] = int(d['rating'])\n",
    "    placeRatings[d['place']][d['user']] = int(d['rating'])\n",
    "    usersPerPlace[d['place']].add(d['user'])\n",
    "    placesPerUser[d['user']].add(d['place'])"
   ]
  },
  {
   "cell_type": "code",
   "execution_count": 54,
   "metadata": {},
   "outputs": [],
   "source": [
    "# with open(\"usersPerPlace.pkl\",\"wb\") as fp:\n",
    "#     pickle.dump(usersPerPlace,fp)\n",
    "\n",
    "# with open(\"placesPerUser.pkl\",\"wb\") as fp:\n",
    "#     pickle.dump(placesPerUser,fp)\n",
    "\n",
    "# with open(\"userRatings.pkl\",\"wb\") as fp:\n",
    "#     pickle.dump(userRatings,fp)\n",
    "\n",
    "# with open(\"placeRatings.pkl\",\"wb\") as fp:\n",
    "#     pickle.dump(placeRatings,fp)"
   ]
  },
  {
   "cell_type": "code",
   "execution_count": 45,
   "metadata": {},
   "outputs": [],
   "source": [
    "allcategories = set()\n",
    "\n",
    "for d in data:\n",
    "    if d['categories']:\n",
    "        for c in d['categories']:\n",
    "            allcategories.add(c)"
   ]
  },
  {
   "cell_type": "code",
   "execution_count": 50,
   "metadata": {},
   "outputs": [],
   "source": [
    "allcategories_list = list(allcategories)"
   ]
  },
  {
   "cell_type": "code",
   "execution_count": 51,
   "metadata": {},
   "outputs": [
    {
     "data": {
      "text/plain": [
       "['大学',\n",
       " '89',\n",
       " '28',\n",
       " '4',\n",
       " '79',\n",
       " 'MO',\n",
       " 'U',\n",
       " '3',\n",
       " '92',\n",
       " 'DJ',\n",
       " '8',\n",
       " '96',\n",
       " 'It',\n",
       " '帯広',\n",
       " '12',\n",
       " '97',\n",
       " 'Dj',\n",
       " 'g',\n",
       " 'RV']"
      ]
     },
     "execution_count": 51,
     "metadata": {},
     "output_type": "execute_result"
    }
   ],
   "source": [
    "[x for x in allcategories_list if len(x)<=2]"
   ]
  },
  {
   "cell_type": "code",
   "execution_count": null,
   "metadata": {},
   "outputs": [],
   "source": [
    "data[0]"
   ]
  },
  {
   "cell_type": "code",
   "execution_count": null,
   "metadata": {},
   "outputs": [],
   "source": [
    "train = data[:int(len(data)*0.8)]"
   ]
  },
  {
   "cell_type": "code",
   "execution_count": null,
   "metadata": {},
   "outputs": [],
   "source": [
    "# df = pd.DataFrame(data, columns=['user', 'place','rating'])\n",
    "\n",
    "# reader = Reader(rating_scale=(0, 5))\n",
    "# training_data = Dataset.load_from_df(df[['user', 'place', 'rating']], reader)\n",
    "\n",
    "# trainset, validationset = train_test_split(training_data, shuffle = False, test_size = 0.20)"
   ]
  },
  {
   "cell_type": "code",
   "execution_count": null,
   "metadata": {},
   "outputs": [],
   "source": [
    "# model = SVD(n_epochs= 15, lr_all= 0.005, n_factors= 1, reg_all= 2)    \n",
    "# model.fit(trainset)"
   ]
  },
  {
   "cell_type": "code",
   "execution_count": null,
   "metadata": {},
   "outputs": [],
   "source": [
    "# predictions_train = model.test(train)\n",
    "# predictions_val = model.test(validationset)"
   ]
  },
  {
   "cell_type": "code",
   "execution_count": null,
   "metadata": {},
   "outputs": [],
   "source": [
    "# sse = 0\n",
    "# for p in predictions_train:\n",
    "#     sse += (p.r_ui - p.est)**2\n",
    "\n",
    "# print('Training set MSE is equal to ', sse / len(predictions_train))\n",
    "\n",
    "# sse = 0\n",
    "# for p in predictions_val:\n",
    "#     sse += (p.r_ui - p.est)**2\n",
    "\n",
    "# print('Validation set MSE is equal to ', sse / len(predictions_val))"
   ]
  },
  {
   "cell_type": "code",
   "execution_count": null,
   "metadata": {},
   "outputs": [],
   "source": []
  }
 ],
 "metadata": {
  "colab": {
   "name": "Assignment2_258.ipynb",
   "provenance": []
  },
  "kernelspec": {
   "display_name": "Python 3",
   "language": "python",
   "name": "python3"
  },
  "language_info": {
   "codemirror_mode": {
    "name": "ipython",
    "version": 3
   },
   "file_extension": ".py",
   "mimetype": "text/x-python",
   "name": "python",
   "nbconvert_exporter": "python",
   "pygments_lexer": "ipython3",
   "version": "3.8.8"
  }
 },
 "nbformat": 4,
 "nbformat_minor": 1
}
